{
 "cells": [
  {
   "cell_type": "code",
   "execution_count": 40,
   "id": "871db207",
   "metadata": {},
   "outputs": [
    {
     "name": "stdout",
     "output_type": "stream",
     "text": [
      "[]\n"
     ]
    }
   ],
   "source": [
    "from bs4 import BeautifulSoup\n",
    "import requests\n",
    "\n",
    "login = 'https://digitalcomicmuseum.com/login.php'\n",
    "\n",
    "dico={'Username':'ClaireM','Password': 'MINALES4432' }\n",
    "with requests.Session() as s:\n",
    "    response=s.post(login, dico)\n",
    "    lien = 'https://digitalcomicmuseum.com/index.php?dlid=12342'\n",
    "    page = requests.get(lien)\n",
    "    soup = BeautifulSoup(page.text, 'html.parser')\n",
    "    lien_fic=soup.find_all('a',target='_self')\n",
    "    print(lien_fic)\n"
   ]
  },
  {
   "cell_type": "code",
   "execution_count": 16,
   "id": "511705e7",
   "metadata": {},
   "outputs": [],
   "source": [
    "from bs4 import BeautifulSoup\n",
    "import requests\n",
    "\n",
    "lien = 'https://digitalcomicmuseum.com/index.php'\n",
    "page = requests.get(lien)\n",
    "soup = BeautifulSoup(page.text, 'html.parser')\n"
   ]
  },
  {
   "cell_type": "code",
   "execution_count": null,
   "id": "06fa0545",
   "metadata": {},
   "outputs": [],
   "source": [
    "N=10000\n",
    "\n",
    "for k in range(N):\n",
    "    try:\n",
    "        lien = f'https://digitalcomicmuseum.com/index.php?dlid={k}'\n",
    "        page = requests.get(lien)\n",
    "        soup = BeautifulSoup(page.text, 'html.parser')\n",
    "        lien_fic=soup.find_all('a')\n",
    "        \n",
    "    except:\n",
    "        pass\n",
    "    \n",
    "\n",
    "\n"
   ]
  },
  {
   "cell_type": "code",
   "execution_count": 30,
   "id": "abf0e81e",
   "metadata": {},
   "outputs": [],
   "source": [
    "\n",
    "lien = 'https://digitalcomicmuseum.com/index.php?dlid=12342'\n",
    "page = requests.get(lien)\n",
    "soup = BeautifulSoup(page.text, 'html.parser')\n",
    "lien_fic=soup.find_all('a',target='_self')"
   ]
  },
  {
   "cell_type": "code",
   "execution_count": 28,
   "id": "a7ae521b",
   "metadata": {},
   "outputs": [
    {
     "data": {
      "text/plain": [
       "[<td width=\"25%\">\n",
       " <select id=\"uc_rating\" name=\"uc_rating\">\n",
       " <option value=\"1\">1</option>\n",
       " <option value=\"2\">2</option>\n",
       " <option value=\"3\">3</option>\n",
       " <option value=\"4\">4</option>\n",
       " <option selected=\"\" value=\"5\">5</option>\n",
       " <option value=\"6\">6</option>\n",
       " <option value=\"7\">7</option>\n",
       " <option value=\"8\">8</option>\n",
       " <option value=\"9\">9</option>\n",
       " <option value=\"10\">10</option>\n",
       " </select> <input name=\"rate_file\" type=\"submit\" value=\"Rate File\"/></td>,\n",
       " <td width=\"25%\"><div align=\"center\"></div></td>,\n",
       " <td width=\"25%\"><div align=\"center\"><a href=\"/preview/index.php?did=12515\" target=\"_blank\"><img src=\"/images/preview.gif\" style=\"border-style: none\"/></a></div></td>,\n",
       " <td width=\"25%\"><div align=\"center\"><img src=\"/images/download_guest.gif\" style=\"border-style: none\"/></div></td>]"
      ]
     },
     "execution_count": 28,
     "metadata": {},
     "output_type": "execute_result"
    }
   ],
   "source": [
    "lien_fic=lien_fic.find_all('td',width='25%')\n",
    "#récupérer les métadonnées"
   ]
  },
  {
   "cell_type": "code",
   "execution_count": 32,
   "id": "0fbda1ac",
   "metadata": {},
   "outputs": [
    {
     "data": {
      "text/plain": [
       "[]"
      ]
     },
     "execution_count": 32,
     "metadata": {},
     "output_type": "execute_result"
    }
   ],
   "source": [
    "lien_fic"
   ]
  },
  {
   "cell_type": "code",
   "execution_count": null,
   "id": "350dc367",
   "metadata": {},
   "outputs": [],
   "source": []
  }
 ],
 "metadata": {
  "kernelspec": {
   "display_name": "Python 3 (ipykernel)",
   "language": "python",
   "name": "python3"
  },
  "language_info": {
   "codemirror_mode": {
    "name": "ipython",
    "version": 3
   },
   "file_extension": ".py",
   "mimetype": "text/x-python",
   "name": "python",
   "nbconvert_exporter": "python",
   "pygments_lexer": "ipython3",
   "version": "3.9.12"
  }
 },
 "nbformat": 4,
 "nbformat_minor": 5
}
